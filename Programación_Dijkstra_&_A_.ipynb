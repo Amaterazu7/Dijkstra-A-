{
  "nbformat": 4,
  "nbformat_minor": 0,
  "metadata": {
    "colab": {
      "name": "Programación Dijkstra & A*.ipynb",
      "version": "0.3.2",
      "provenance": [],
      "include_colab_link": true
    },
    "kernelspec": {
      "name": "python3",
      "display_name": "Python 3"
    }
  },
  "cells": [
    {
      "cell_type": "markdown",
      "metadata": {
        "id": "view-in-github",
        "colab_type": "text"
      },
      "source": [
        "<a href=\"https://colab.research.google.com/github/Amaterazu7/Dijkstra-A-/blob/master/Programaci%C3%B3n_Dijkstra_&_A_.ipynb\" target=\"_parent\"><img src=\"https://colab.research.google.com/assets/colab-badge.svg\" alt=\"Open In Colab\"/></a>"
      ]
    },
    {
      "metadata": {
        "id": "axovIAKh1V7X",
        "colab_type": "text"
      },
      "cell_type": "markdown",
      "source": [
        "#Desarrollo de Dijkstra Algorithm"
      ]
    },
    {
      "metadata": {
        "id": "L3oWUiB3kNnZ",
        "colab_type": "code",
        "colab": {}
      },
      "cell_type": "code",
      "source": [
        "#Dijkstra"
      ],
      "execution_count": 0,
      "outputs": []
    },
    {
      "metadata": {
        "id": "vXmisG2yiGpO",
        "colab_type": "code",
        "colab": {}
      },
      "cell_type": "code",
      "source": [
        "#Vertex\n",
        "import sys;\n",
        "\n",
        "class Vertex(object):\n",
        "   \n",
        "    def __init__(self, name):\n",
        "      self.name = name;\n",
        "      self.visited = False;\n",
        "      self.predecessor = None;\n",
        "      self.adjacenciestList = [];\n",
        "      self.minDistance = sys.maxsize; #simulating infinity\n",
        "\n",
        "      \n",
        "    def __cmp__(self, otherVertex):\n",
        "      return self.cmp(self.minDistance, otherVertex.minDistance);\n",
        "      \n",
        "    def __lt__(self, other):\n",
        "      selfPriority = self.minDistance;\n",
        "      otherPriority = other.minDistance;\n",
        "      return selfPriority < otherPriority;\n",
        "      \n",
        "      \n",
        "      "
      ],
      "execution_count": 0,
      "outputs": []
    },
    {
      "metadata": {
        "id": "-coyVI1-ia4N",
        "colab_type": "code",
        "colab": {}
      },
      "cell_type": "code",
      "source": [
        "#Edge\n",
        "\n",
        "class Edge(object):\n",
        "   \n",
        "    def __init__(self, weight, startVertex, targetVertex):\n",
        "      self.weight = weight;\n",
        "      self.startVertex = startVertex;\n",
        "      self.targetVertex = targetVertex;\n",
        "      \n",
        "\n",
        "\n",
        "\n"
      ],
      "execution_count": 0,
      "outputs": []
    },
    {
      "metadata": {
        "id": "3bqRWxkJiqYl",
        "colab_type": "code",
        "colab": {}
      },
      "cell_type": "code",
      "source": [
        "#Algorithm\n",
        "import heapq;\n",
        "\n",
        "class Algorithm(object):\n",
        "\n",
        "  def calculateShortestPath(self, vertexList, startVertex):\n",
        "    heapQueue = [];\n",
        "    startVertex.minDistance = 0;\n",
        "    heapq.heappush(heapQueue, startVertex);\n",
        "\n",
        "    while len(heapQueue)>0:\n",
        "      actualVertex = heapq.heappop(heapQueue);\n",
        "\n",
        "      for edge in actualVertex.adjacenciestList:\n",
        "        u = edge.startVertex; \n",
        "        v = edge.targetVertex;\n",
        "        newDistance = u.minDistance + edge.weight;\n",
        "\n",
        "        if newDistance < v.minDistance:\n",
        "          v.predecessor = u;\n",
        "          v.minDistance = newDistance;\n",
        "          heapq.heappush(heapQueue, v);\n",
        "\n",
        "\n",
        "\n",
        "  def getShortestPathTo(self, targetVertex):\n",
        "    print(\"Shortest path to target is: \", targetVertex.minDistance);\n",
        "    node = targetVertex;\n",
        "\n",
        "    while node is not None:\n",
        "      print(\"%s -->\" % node.name);\n",
        "      node=node.predecessor;\n",
        "  "
      ],
      "execution_count": 0,
      "outputs": []
    },
    {
      "metadata": {
        "id": "VRk-mtV7kX5y",
        "colab_type": "code",
        "outputId": "4ed737dd-203e-490f-a4c8-d28f7fd36fc7",
        "colab": {
          "base_uri": "https://localhost:8080/",
          "height": 102
        }
      },
      "cell_type": "code",
      "source": [
        "#AppDijkstraTest\n",
        "\n",
        "nodeA = Vertex(\"A\"); \n",
        "nodeB = Vertex(\"B\");\n",
        "nodeC = Vertex(\"C\");\n",
        "nodeD = Vertex(\"D\"); \n",
        "nodeE = Vertex(\"E\");\n",
        "nodeF = Vertex(\"F\");\n",
        "nodeG = Vertex(\"G\"); \n",
        "\n",
        "edge1 = Edge(1, nodeA, nodeB);\n",
        "edge2 = Edge(5, nodeA, nodeC);\n",
        "edge3 = Edge(4, nodeB, nodeC);\n",
        "edge4 = Edge(8, nodeB, nodeD);\n",
        "edge5 = Edge(7, nodeB, nodeE);\n",
        "edge6 = Edge(6, nodeC, nodeD);\n",
        "edge7 = Edge(2, nodeC, nodeF);\n",
        "edge8 = Edge(11, nodeD, nodeE);\n",
        "edge9 = Edge(9, nodeD, nodeF);\n",
        "edge10 = Edge(3, nodeE, nodeF);\n",
        "edge11 = Edge(10, nodeE, nodeG);\n",
        "edge12 = Edge(12, nodeF, nodeG);\n",
        "\n",
        "\n",
        "nodeA.adjacenciestList.append(edge1);\n",
        "nodeA.adjacenciestList.append(edge2);\n",
        "nodeB.adjacenciestList.append(edge3);\n",
        "nodeB.adjacenciestList.append(edge4);\n",
        "nodeB.adjacenciestList.append(edge5);\n",
        "nodeC.adjacenciestList.append(edge6);\n",
        "nodeC.adjacenciestList.append(edge7);\n",
        "nodeD.adjacenciestList.append(edge8);\n",
        "nodeD.adjacenciestList.append(edge9);\n",
        "nodeE.adjacenciestList.append(edge10);\n",
        "nodeE.adjacenciestList.append(edge11);\n",
        "nodeF.adjacenciestList.append(edge12);\n",
        "\n",
        "\n",
        "vertexList = {nodeA, nodeB, nodeC, nodeD, nodeE, nodeF, nodeG};\n",
        "alg = Algorithm();\n",
        "alg.calculateShortestPath(vertexList, nodeA);\n",
        "alg.getShortestPathTo(nodeG);\n",
        "\n"
      ],
      "execution_count": 10,
      "outputs": [
        {
          "output_type": "stream",
          "text": [
            "Shortest path to target is:  18\n",
            "G -->\n",
            "E -->\n",
            "B -->\n",
            "A -->\n"
          ],
          "name": "stdout"
        }
      ]
    },
    {
      "metadata": {
        "colab_type": "text",
        "id": "OjzKqgs2IgLW"
      },
      "cell_type": "markdown",
      "source": [
        "#Desarrollo de A* Pathfinding Algorithm"
      ]
    },
    {
      "metadata": {
        "id": "KVCnbSMC9DC1",
        "colab_type": "code",
        "colab": {}
      },
      "cell_type": "code",
      "source": [
        "#State\n",
        "from queue import PriorityQueue;\n",
        "\n",
        "class State(object):\n",
        "     \n",
        "  def __init__(self, value, parent, start=0, goal=0): #, solver=0):     \n",
        "    self.children = [];\n",
        "    self.parent = parent;\n",
        "    self.value = value;\n",
        "    self.dist = 0;\n",
        "\n",
        "    if parent:\n",
        "      self.path = parent.path[:];\n",
        "      self.path.append(value);\n",
        "      self.start = parent.start;\n",
        "      self.goal = parent.goal;\n",
        "      #self.solver = parent.solver;\n",
        "    else:\n",
        "      self.path = [value];\n",
        "      self.start = start;\n",
        "      self.goal = goal;\n",
        "      #self.solver = solver;\n",
        "\n",
        "\n",
        "  def GetDist(self):\n",
        "    pass\n",
        "\n",
        "\n",
        "  def CreateChildren(self):\n",
        "    pass "
      ],
      "execution_count": 0,
      "outputs": []
    },
    {
      "metadata": {
        "id": "FYFaujuG-ebb",
        "colab_type": "code",
        "colab": {}
      },
      "cell_type": "code",
      "source": [
        "#State_String  \n",
        "class State_String(State):\n",
        "  \n",
        "  def __init__(self, value, parent, start=0, goal=0):\n",
        "    super(State_String, self).__init__(value, parent, start, goal)\n",
        "    self.dist = self.GetDist();\n",
        "  \n",
        "  \n",
        "  def GetDist(self):\n",
        "    if self.value == self.goal:\n",
        "      return 0;\n",
        "    dist = 0;\n",
        "    \n",
        "    for i in range(len(self.goal)):\n",
        "      letter = self.goal[i];\n",
        "      dist += abs(i - self.value.index(letter));\n",
        "    return dist;\n",
        "\n",
        "\n",
        "  def CreateChildren(self):\n",
        "    if not self.children:\n",
        "       for i in range(len(self.goal) - 1):\n",
        "          val = self.value;\n",
        "          val = val[:i] + val[i+1] + val[i] + val[i+2:];\n",
        "          child = State_String(val, self)\n",
        "          self.children.append(child);"
      ],
      "execution_count": 0,
      "outputs": []
    },
    {
      "metadata": {
        "id": "9rP8_c1XLHmy",
        "colab_type": "code",
        "colab": {}
      },
      "cell_type": "code",
      "source": [
        "#AStar_Solver  \n",
        "class AStar_Solver:\n",
        "  \n",
        "  def __init__(self, start, goal):\n",
        "    self.path = [];\n",
        "    self.visitedQueue = [];\n",
        "    self.priorityQueue = PriorityQueue();\n",
        "    self.start = start;\n",
        "    self.goal = goal;\n",
        "    \n",
        "  def Solve(self):\n",
        "    startState = State_String(self.start, 0, self.start, self.goal)\n",
        "    count = 0;\n",
        "    self.priorityQueue.put((0, count, startState))\n",
        "    \n",
        "    while(not self.path and self.priorityQueue.qsize()):\n",
        "      closestChild = self.priorityQueue.get()[2];\n",
        "      closestChild.CreateChildren();\n",
        "      self.visitedQueue.append(closestChild.value);\n",
        "      \n",
        "      for child in closestChild.children:\n",
        "        if child.value not in self.visitedQueue:\n",
        "          count+=1;\n",
        "          if not child.dist:\n",
        "            self.path = child.path;\n",
        "            break;\n",
        "          self.priorityQueue.put(())\n",
        "          \n",
        "    if not self.path:\n",
        "      print(\"Goal of \" + self.goal + \"is not possible!\");\n",
        "    return self.path    \n"
      ],
      "execution_count": 0,
      "outputs": []
    },
    {
      "metadata": {
        "id": "2WrwBlInPWSy",
        "colab_type": "code",
        "outputId": "36205799-a302-47a4-8ef5-d8caeedee071",
        "colab": {
          "base_uri": "https://localhost:8080/",
          "height": 68
        }
      },
      "cell_type": "code",
      "source": [
        "#AppAStarTest\n",
        "  start1 = \"bac\";\n",
        "  goal1 = \"abc\";\n",
        "  print(\"STARTING...\");\n",
        "  a = AStar_Solver(start1, goal1);\n",
        "  a.Solve();\n",
        "  for i in range(len(a.path)):\n",
        "    print(\"%d) \" %i + a.path[i]);"
      ],
      "execution_count": 36,
      "outputs": [
        {
          "output_type": "stream",
          "text": [
            "STARTING...\n",
            "0) bac\n",
            "1) abc\n"
          ],
          "name": "stdout"
        }
      ]
    },
    {
      "metadata": {
        "colab_type": "text",
        "id": "CoHvgn3Mj8vA"
      },
      "cell_type": "markdown",
      "source": [
        "#A* Pathfinding - PacMan"
      ]
    },
    {
      "metadata": {
        "id": "Udj0gh8F-k4V",
        "colab_type": "code",
        "colab": {}
      },
      "cell_type": "code",
      "source": [
        "def nullHeuristic(state, problem=None):\n",
        "    \"\"\"\n",
        "    A heuristic function estimates the cost from the current state to the nearest\n",
        "    goal in the provided SearchProblem.  This heuristic is trivial.\n",
        "    \"\"\"\n",
        "    return 0\n"
      ],
      "execution_count": 0,
      "outputs": []
    },
    {
      "metadata": {
        "id": "4G4kpu3-kYbd",
        "colab_type": "code",
        "colab": {}
      },
      "cell_type": "code",
      "source": [
        "def aStarSearch(problem, heuristic=nullHeuristic):\n",
        "    from game import Directions\n",
        "\n",
        "    fringe = util.PriorityQueue() \n",
        "    visitedList = []\n",
        "\n",
        "    fringe.push((problem.getStartState(),[],0),0 + heuristic(problem.getStartState(),problem))\n",
        "    (state,toDirection,toCost) = fringe.pop()\n",
        "    visitedList.append((state,toCost + heuristic(problem.getStartState(),problem)))\n",
        "\n",
        "    while not problem.isGoalState(state):\n",
        "        successors = problem.getSuccessors(state) \n",
        "        \n",
        "        for son in successors:\n",
        "            visitedExist = False\n",
        "            total_cost = toCost + son[2]\n",
        "            \n",
        "            for (visitedState,visitedToCost) in visitedList:\n",
        "                if (son[0] == visitedState) and (total_cost >= visitedToCost): \n",
        "                    visitedExist = True\n",
        "                    break\n",
        "\n",
        "            if not visitedExist:        \n",
        "                fringe.push((son[0],toDirection + [son[1]],toCost + son[2]),toCost + son[2] + heuristic(son[0],problem)) \n",
        "                visitedList.append((son[0],toCost + son[2]))\n",
        "\n",
        "        (state,toDirection,toCost) = fringe.pop()\n",
        "\n",
        "    return toDirection\n"
      ],
      "execution_count": 0,
      "outputs": []
    },
    {
      "metadata": {
        "id": "po4YMt2uG1fC",
        "colab_type": "code",
        "colab": {}
      },
      "cell_type": "code",
      "source": [
        "python pacman.py -l bigMaze -z .5 -p SearchAgent -a fn=astar,heuristic=manhattanHeuristic "
      ],
      "execution_count": 0,
      "outputs": []
    },
    {
      "metadata": {
        "id": "UF8u7DcAHH4i",
        "colab_type": "code",
        "colab": {}
      },
      "cell_type": "code",
      "source": [
        ""
      ],
      "execution_count": 0,
      "outputs": []
    }
  ]
}